{
 "cells": [
  {
   "cell_type": "markdown",
   "id": "43a504b3",
   "metadata": {
    "deletable": false,
    "editable": false,
    "nbgrader": {
     "cell_type": "markdown",
     "checksum": "a4d572b9cb35f7417343f3db3cd5a898",
     "grade": false,
     "grade_id": "cell-fcd2666579131b77",
     "locked": true,
     "schema_version": 3,
     "solution": false,
     "task": false
    },
    "tags": []
   },
   "source": [
    "# Analiza danych przestrzennych - ćwiczenia laboratoryjne 2022/2023\n",
    "\n",
    "Ten notatnik zalicza się do grupy zestawów zadań, na podstawie których odbywa się zaliczenie ćwiczeń i podlega zwrotowi do oceny w ustalonym na zajęciach terminie.\n",
    "\n",
    "Uwagi ogólne:\n",
    "- Podczas wykonywania zadań należy korzystać wyłącznie z pakietów zaimportowanych na początku notatnika oraz z pakietów wchodzących w skład standardowej biblioteki Pythona, które można zaimportować samodzielnie we wskazanej komórce.\n",
    "- Swoje rozwiązania należy wprowadzać wyłącznie w miejce następujących fragmentów kodu:<br/> ` # YOUR CODE HERE`<br/> ` raise NotImplementedError()`<br/> Nie należy w żaden sposób modyfikować pozostałych fragmentów kodu oraz elementów notatnika, w szczególności dodawać lub usuwać komórek oraz zmieniać nazwy pliku.\n",
    "- Jeżeli zestaw zadań wymaga skorzystania z funkcji przygotowanych w ramach wcześniejszych zestawów zadań należy je umieścić we wskazanej komórce.\n",
    "- Wszystkie wykresy powinny być wykonane w jednolitym, przejrzystym i czytelnym stylu, mieć nadane tytuły, opisane osie oraz odpowiednio dobrany rozmiar, wielkość punktów i grubość linii. Proporcje osi wykresów przedstawiających rozkłady punktów powinny być dobrane tak, aby wykresy odzwierciedlały rzeczywisty rozkład punktów w przestrzeni.\n",
    "- Zadania, które powodują wyświetlenie komunikatu o błędzie przerywającym wykonywanie kodu nie podlegają ocenie.\n",
    "\n",
    "Przed odesłaniem zestawu zadań do oceny proszę uzupełnić komórkę z danymi autorów rozwiązania (`NAME` - nazwa grupy, `COLLABORATORS` - imiona, nazwiska i numery indeksów członków grupy) oraz upewnić się, że notatnik działa zgodnie z oczekiwaniami. W tym celu należy skorzystać z opcji **Restart Kernel and Run All Cells...** dostępnej na górnej belce notatnika pod symbolem $\\blacktriangleright\\blacktriangleright$. "
   ]
  },
  {
   "cell_type": "code",
   "execution_count": 1,
   "id": "9f6fec07",
   "metadata": {},
   "outputs": [],
   "source": [
    "NAME = \"IAD21\"\n",
    "COLLABORATORS = \"Julia Morka, 407178; Filip Garbacki 405187; Kamil Sadowski, 405961\""
   ]
  },
  {
   "cell_type": "markdown",
   "id": "d6796f9a",
   "metadata": {
    "deletable": false,
    "editable": false,
    "nbgrader": {
     "cell_type": "markdown",
     "checksum": "eddc8826810e4a6f7bf68319da334bd9",
     "grade": false,
     "grade_id": "cell-109006d425e5cf83",
     "locked": true,
     "schema_version": 3,
     "solution": false,
     "task": false
    },
    "tags": []
   },
   "source": [
    "---"
   ]
  },
  {
   "cell_type": "markdown",
   "id": "09ae627f-7781-432c-92be-054e5c5f19d0",
   "metadata": {
    "deletable": false,
    "editable": false,
    "nbgrader": {
     "cell_type": "markdown",
     "checksum": "62c6d1377b92635ef278c94e21e7e9ab",
     "grade": false,
     "grade_id": "cell-be413733df21fa86",
     "locked": true,
     "schema_version": 3,
     "solution": false,
     "task": false
    },
    "tags": []
   },
   "source": [
    "## Zestaw zadań 9: Analiza danych przestrzennych z wykorzystaniem pakietów GeoPandas i PySAL (część 3)"
   ]
  },
  {
   "cell_type": "code",
   "execution_count": 2,
   "id": "1d9566ae-0c1b-4f68-9203-c5924a3651ae",
   "metadata": {
    "deletable": false,
    "editable": false,
    "nbgrader": {
     "cell_type": "code",
     "checksum": "29dc1af3dadc2aa89c6596343c570512",
     "grade": false,
     "grade_id": "cell-baaf088fa7f91aec",
     "locked": true,
     "schema_version": 3,
     "solution": false,
     "task": false
    },
    "tags": []
   },
   "outputs": [],
   "source": [
    "import numpy as np\n",
    "import pandas as pd\n",
    "import scipy as sp\n",
    "import matplotlib as mpl\n",
    "import matplotlib.pyplot as plt\n",
    "import seaborn as sns\n",
    "import geopandas as gpd\n",
    "import libpysal as ps\n",
    "import pointpats as pp\n",
    "\n",
    "import warnings\n",
    "warnings.simplefilter(action='ignore', category=FutureWarning)"
   ]
  },
  {
   "cell_type": "code",
   "execution_count": 3,
   "id": "316bb8bc-c226-49f2-9e30-21fcf0edd040",
   "metadata": {},
   "outputs": [],
   "source": [
    "from shapely import Point"
   ]
  },
  {
   "cell_type": "code",
   "execution_count": 4,
   "id": "c6aefef5-b6e6-4e97-a057-747d6510634c",
   "metadata": {
    "deletable": false,
    "nbgrader": {
     "cell_type": "code",
     "checksum": "5e21d8dca6b79b399dc8ed524cfa7b27",
     "grade": true,
     "grade_id": "cell-a46c08df43df6fd7",
     "locked": false,
     "points": 0,
     "schema_version": 3,
     "solution": true,
     "task": false
    },
    "tags": []
   },
   "outputs": [],
   "source": [
    "def g_function_poisson(d, intensity):\n",
    "    \"\"\"\n",
    "    Parameters\n",
    "    -------\n",
    "    d: array\n",
    "        Macierz zawierająca odległości, dla których ma zostać wyznaczona wartość funkcji G.\n",
    "    intensity: float\n",
    "        Liczba dodatnia określająca intensywność jednorodnego procesu Poissona.\n",
    "    \n",
    "    Returns\n",
    "    -------\n",
    "    g: DataFrame\n",
    "        Tablica zawierająca dwie kolumny:\n",
    "        - \"D\" - zawierającą unikalne wartości odległości do najbliższego sąsiada uszeregowane od najmniejszej do największej wartości, dla których wyliczone zostały wartości funkcji G,\n",
    "        - \"G\" - zawierającą wyliczone wartości funkcji G.\n",
    "    \"\"\"  \n",
    "    G = []\n",
    "    for dd in d:\n",
    "        G.append(1-np.exp(-intensity*np.pi*dd*dd))\n",
    "    return pd.DataFrame({\"D\": d, \"G\": G})\n",
    "\n",
    "def f_function_poisson(d, intensity):\n",
    "    \"\"\"\n",
    "    Parameters\n",
    "    -------\n",
    "    d: array\n",
    "        Macierz zawierająca odległości, dla których ma zostać wyznaczona wartość funkcji F.\n",
    "    intensity: float\n",
    "        Liczba dodatnia określająca intensywność jednorodnego procesu Poissona.\n",
    "\n",
    "    Returns\n",
    "    -------\n",
    "    f: DataFrame\n",
    "        Tablica zawierająca dwie kolumny:\n",
    "        - \"D\" - zawierającą unikalne wartości odległości do najbliższego sąsiada uszeregowane od najmniejszej do największej wartości, dla których wyliczone zostały wartości funkcji F,\n",
    "        - \"F\" - zawierającą wyliczone wartości funkcji F.\n",
    "    \"\"\"  \n",
    "    F = []\n",
    "    for dd in d:\n",
    "        F.append(1-np.exp(-intensity*np.pi*dd*dd))\n",
    "    return pd.DataFrame({\"D\": d, \"F\": F})"
   ]
  },
  {
   "cell_type": "markdown",
   "id": "603eda5e-a368-4dd6-ae49-964d6b182347",
   "metadata": {},
   "source": [
    "#### UWAGA!\n",
    "Znaczna część przykładów i dokumentacji modułów wchodzących w skład pakietu pysal dostępna w internecie nie dotyczny ich najnowszych wersji.\n",
    "Z tego powodu lepiej jest zdobywać informacje na temat wykorzystywanych modułów, klas i funkcji z wykorzystaniem funkcji help(), np.: help(ps), help(pp), help(pp.pointpattern)."
   ]
  },
  {
   "cell_type": "markdown",
   "id": "11653a05-5bd0-4169-87cb-e5173bd99c66",
   "metadata": {
    "deletable": false,
    "editable": false,
    "nbgrader": {
     "cell_type": "markdown",
     "checksum": "83f470e108466ac04be93b5fd74d7ddf",
     "grade": false,
     "grade_id": "cell-3d9b6dc04e7b8e64",
     "locked": true,
     "schema_version": 3,
     "solution": false,
     "task": false
    },
    "tags": []
   },
   "source": [
    "### Import i przygotowanie danych"
   ]
  },
  {
   "cell_type": "code",
   "execution_count": 5,
   "id": "1ec93e1d-9486-4e87-a1f2-ebdfdcc82dcc",
   "metadata": {
    "deletable": false,
    "nbgrader": {
     "cell_type": "code",
     "checksum": "c3bbbaf3c7d26177840552ebb8b78134",
     "grade": true,
     "grade_id": "cell-9c5827e1303cedf5",
     "locked": false,
     "points": 0,
     "schema_version": 3,
     "solution": true,
     "task": false
    },
    "tags": []
   },
   "outputs": [],
   "source": [
    "polska = gpd.read_file(\"Kraj.zip\")\n",
    "points_1 = gpd.read_file(\"points_1.zip\")\n",
    "points_2 = gpd.read_file(\"points_2.zip\")\n",
    "points_3 = gpd.read_file(\"points_3.zip\")"
   ]
  },
  {
   "cell_type": "markdown",
   "id": "c8bfc978-36cc-44ee-9ee5-a496fc7e406a",
   "metadata": {
    "deletable": false,
    "editable": false,
    "nbgrader": {
     "cell_type": "markdown",
     "checksum": "a18e18150c77d2fc7a2fca3f90859e97",
     "grade": false,
     "grade_id": "cell-2e6bc852b6b740be",
     "locked": true,
     "schema_version": 3,
     "solution": false,
     "task": false
    },
    "tags": []
   },
   "source": [
    "### Zadanie 1: Funkcja G (15 pkt)\n",
    "Wykorzystując funkcję `pointpats.distance_statistics.g()` przygotuj funkcję `g_function()`, która będzie generować dane niezbędne do wykonania wykresu funkcji G analizowanego rozkładu punktów.\n",
    "\n",
    "Następnie wykorzystaj przygotowane funkcje do wygnenerowania danych dla rozkładów punktów z plików points_1.zip, points_2.zip i points_3.zip. \n",
    "\n",
    "Przedstaw wyniki analizy graficznie w postaci wykresów liniowych funkcji G przygotowanych rozkładów punktów zestawionych z teoretyczną funkcją G jednorodnego rozkładu Poissona o odpowiednio dobranej intensywności. Zestaw wyniki na pojedynczej figurze (siatka wykresów 2x3). Umieść analizowane rozkłady punktów w górnym wierszu, a wykresy funkcji G w dolnym wierszu figury. "
   ]
  },
  {
   "cell_type": "markdown",
   "id": "90bc82a1-72fc-4643-9010-d8a01ed6d080",
   "metadata": {
    "deletable": false,
    "editable": false,
    "nbgrader": {
     "cell_type": "markdown",
     "checksum": "3b7c7a655507b671316d0e935e153520",
     "grade": false,
     "grade_id": "cell-017e5bf7eaa3dde8",
     "locked": true,
     "schema_version": 3,
     "solution": false,
     "task": false
    },
    "tags": []
   },
   "source": [
    "#### a) Przygotowanie funkcji"
   ]
  },
  {
   "cell_type": "code",
   "execution_count": 6,
   "id": "b0376bd5-01af-40a1-a194-4106f5e5446f",
   "metadata": {
    "deletable": false,
    "nbgrader": {
     "cell_type": "code",
     "checksum": "37854aa4b5f12d1179d61f34f450a628",
     "grade": true,
     "grade_id": "cell-45a156c6228d6a05",
     "locked": false,
     "points": 6,
     "schema_version": 3,
     "solution": true,
     "task": false
    },
    "tags": []
   },
   "outputs": [],
   "source": [
    "def g_function(points, intervals):\n",
    "    \"\"\"\n",
    "    Parameters\n",
    "    -------\n",
    "    points: GeoSeries\n",
    "        Tablica zawierająca punkty zapisane jako obiekty shapely.geometry.point.Point.\n",
    "    intervals: int\n",
    "        Liczba dodatnia określająca na ile części ma zostać podzielony dystans do najdalszej odległosci do najbliższego sąsiada.\n",
    "    Returns\n",
    "    -------\n",
    "    g: DataFrame\n",
    "        Tablica zawierająca dwie kolumny:\n",
    "        - \"D\" - zawierającą unikalne wartości odległości do najbliższego sąsiada uszeregowane od najmniejszej do największej wartości, dla których wyliczone zostały wartości funkcji G,\n",
    "        - \"G\" - zawierającą wyliczone wartości funkcji G.\n",
    "    \"\"\"\n",
    "    points = [[p.x, p.y] for p in points]\n",
    "    a = pp.distance_statistics.g(points, intervals)\n",
    "    return pd.DataFrame({\"D\": a[0], \"G\": a[1]})"
   ]
  },
  {
   "cell_type": "markdown",
   "id": "45a64d22-96f0-4d18-83d8-a8abc8afc8da",
   "metadata": {
    "deletable": false,
    "editable": false,
    "nbgrader": {
     "cell_type": "markdown",
     "checksum": "9e344ece90af5f0b77f8696b77945a97",
     "grade": false,
     "grade_id": "cell-377bc206e758d005",
     "locked": true,
     "schema_version": 3,
     "solution": false,
     "task": false
    },
    "tags": []
   },
   "source": [
    "#### b) Wygenerowanie danych"
   ]
  },
  {
   "cell_type": "code",
   "execution_count": 7,
   "id": "4b4d272c-6c0f-48c9-a927-c970adcc9007",
   "metadata": {
    "deletable": false,
    "nbgrader": {
     "cell_type": "code",
     "checksum": "e30bbffb49bc5f2230edd7d76705de33",
     "grade": true,
     "grade_id": "cell-375f59319229e78d",
     "locked": false,
     "points": 3,
     "schema_version": 3,
     "solution": true,
     "task": false
    },
    "tags": []
   },
   "outputs": [],
   "source": [
    "number_of_points1 = len(points_1.geometry)\n",
    "number_of_points2 = len(points_2.geometry)\n",
    "number_of_points3 = len(points_3.geometry)\n",
    "\n",
    "g1 = g_function(points_1.geometry, number_of_points1)\n",
    "g2 = g_function(points_2.geometry, number_of_points2)\n",
    "g3 = g_function(points_3.geometry, number_of_points3)\n",
    "\n",
    "area = polska.area\n",
    "\n",
    "g1_poisson = g_function_poisson(g1[\"D\"], number_of_points1/area)\n",
    "g2_poisson = g_function_poisson(g2[\"D\"], number_of_points2/area)\n",
    "g3_poisson = g_function_poisson(g3[\"D\"], number_of_points3/area)"
   ]
  },
  {
   "cell_type": "markdown",
   "id": "7b742eb5-7752-450e-8a37-301af2825f27",
   "metadata": {
    "deletable": false,
    "editable": false,
    "nbgrader": {
     "cell_type": "markdown",
     "checksum": "41f2b552e014c07b7303b6bbd440e062",
     "grade": false,
     "grade_id": "cell-610bfc01846ba8c5",
     "locked": true,
     "schema_version": 3,
     "solution": false,
     "task": false
    },
    "tags": []
   },
   "source": [
    "#### c) Wizualizacja"
   ]
  },
  {
   "cell_type": "code",
   "execution_count": 8,
   "id": "15469e7d-e799-494a-bd2d-3de886eb52cb",
   "metadata": {
    "deletable": false,
    "nbgrader": {
     "cell_type": "code",
     "checksum": "b81161301ea735f7b148549f74562fe0",
     "grade": true,
     "grade_id": "cell-37de54b7c1e8add2",
     "locked": false,
     "points": 6,
     "schema_version": 3,
     "solution": true,
     "task": false
    },
    "tags": []
   },
   "outputs": [
    {
     "data": {
      "image/png": "[encoded data removed]",
      "text/plain": [
       "<Figure size 1500x1000 with 6 Axes>"
      ]
     },
     "metadata": {},
     "output_type": "display_data"
    }
   ],
   "source": [
    "fig, axes = plt.subplots(nrows=2, ncols=3, figsize=[15,10])\n",
    "plt.subplots_adjust(hspace=0.3, wspace=0.3)\n",
    "    \n",
    "def plot(data1, data2, axes, title, x=\"X\", y=\"Y\", a=0.8, size=5):\n",
    "    axes.plot(data1[x], data1[y], label=\"Theoretical distrib. funct.\")\n",
    "    axes.plot(data2[x], data2[y], label=\"Distribution function\")\n",
    "    axes.legend(labelcolor=\"linecolor\", loc=\"lower right\", prop={'size': 9})\n",
    "    axes.set_xlabel(x, rotation=0, labelpad=20)\n",
    "    axes.set_ylabel(y, rotation=0, labelpad=20)\n",
    "    axes.set_title(title)\n",
    "    \n",
    "\n",
    "points_1.plot(ax=axes[0,0])\n",
    "axes[0,0].set_title(\"Points 1\")\n",
    "points_2.plot(ax=axes[0,1])\n",
    "axes[0,1].set_title(\"Points 2\")\n",
    "points_3.plot(ax=axes[0,2])\n",
    "axes[0,2].set_title(\"Points 3\")\n",
    "\n",
    "\n",
    "plot(g1_poisson, g1, axes[1,0],\n",
    "     \"Points 1 - G function\",\n",
    "     \"D\", \"G\")\n",
    "plot(g2_poisson, g2, axes[1,1],\n",
    "     \"Points 1 - G function\",\n",
    "     \"D\", \"G\")\n",
    "plot(g3_poisson, g3, axes[1,2],\n",
    "     \"Points 1 - G function\",\n",
    "     \"D\", \"G\")\n",
    "\n",
    "plt.show()"
   ]
  },
  {
   "cell_type": "markdown",
   "id": "4cf68f44-1167-4437-8aa8-cf39d9cb4810",
   "metadata": {
    "deletable": false,
    "editable": false,
    "nbgrader": {
     "cell_type": "markdown",
     "checksum": "ffa5a2c8676acb0905b38535c7610814",
     "grade": false,
     "grade_id": "cell-a82bb0d8bf864786",
     "locked": true,
     "schema_version": 3,
     "solution": false,
     "task": false
    },
    "tags": []
   },
   "source": [
    "### Zadanie 2: Funkcja F (15 pkt)\n",
    "\n",
    "Wykorzystując funkcję `pointpats.distance_statistics.f()` przygotuj funkcję `f_function()`, która będzie generować dane niezbędne do wykonania wykresu funkcji F analizowanego rozkładu punktów.\n",
    "\n",
    "Następnie wykorzystaj przygotowane funkcje do wygnenerowania danych dla rozkładów punktów z plików points_1.zip, points_2.zip i points_3.zip. \n",
    "\n",
    "Przedstaw wyniki analizy graficznie w postaci wykresów liniowych funkcji F przygotowanych rozkładów punktów zestawionych z teoretyczną funkcją F jednorodnego rozkładu Poissona o odpowiednio dobranej intensywności. Zestaw wyniki na pojedynczej figurze (siatka wykresów 2x3). Umieść analizowane rozkłady punktów w górnym wierszu, a wykresy funkcji F w dolnym wierszu figury. "
   ]
  },
  {
   "cell_type": "markdown",
   "id": "2253f0cd-7655-4f9e-9ccd-b961a9a52289",
   "metadata": {
    "deletable": false,
    "editable": false,
    "nbgrader": {
     "cell_type": "markdown",
     "checksum": "343279f351da09c9f564527165225aba",
     "grade": false,
     "grade_id": "cell-ba60363c44e3b9bd",
     "locked": true,
     "schema_version": 3,
     "solution": false,
     "task": false
    },
    "tags": []
   },
   "source": [
    "#### a) Przygotowanie funkcji"
   ]
  },
  {
   "cell_type": "code",
   "execution_count": 9,
   "id": "0bfdcd73-de07-4fb2-9f0d-c39f330c6667",
   "metadata": {
    "deletable": false,
    "nbgrader": {
     "cell_type": "code",
     "checksum": "4443cb2deb31d75881d578f0e444f768",
     "grade": true,
     "grade_id": "cell-964b50b6a1ffb0fa",
     "locked": false,
     "points": 6,
     "schema_version": 3,
     "solution": true,
     "task": false
    },
    "tags": []
   },
   "outputs": [],
   "source": [
    "def f_function(points, intervals, polygon):\n",
    "    \"\"\"\n",
    "    Parameters\n",
    "    -------\n",
    "    points: GeoSeries\n",
    "        Tablica zawierająca punkty zapisane jako obiekty shapely.geometry.point.Point.\n",
    "    intervals: int\n",
    "        Liczba dodatnia określająca na ile części ma zostać podzielony dystans do najdalszej odległosci do najbliższego sąsiada.\n",
    "    polygon: Polygon\n",
    "        Obszar, na którym mają zostać wygenerowane punkty procesu testowego.\n",
    "        \n",
    "    Returns\n",
    "    -------\n",
    "    f: DataFrame\n",
    "        Tablica zawierająca dwie kolumny:\n",
    "        - \"D\" - zawierającą unikalne wartości odległości do najbliższego sąsiada uszeregowane od najmniejszej do największej wartości, dla których wyliczone zostały wartości funkcji F,\n",
    "        - \"F\" - zawierającą wyliczone wartości funkcji F.\n",
    "    \"\"\"\n",
    "    points = [[p.x, p.y] for p in points]\n",
    "    a = pp.distance_statistics.f(points, intervals, hull=polygon)\n",
    "    return pd.DataFrame({\"D\": a[0], \"F\": a[1]})"
   ]
  },
  {
   "cell_type": "markdown",
   "id": "67e005c0-c1cb-40dc-b3fd-b633092bad0c",
   "metadata": {
    "deletable": false,
    "editable": false,
    "nbgrader": {
     "cell_type": "markdown",
     "checksum": "19e4dff454303c9b656667ab11eff584",
     "grade": false,
     "grade_id": "cell-0f678495b7fb1273",
     "locked": true,
     "schema_version": 3,
     "solution": false,
     "task": false
    },
    "tags": []
   },
   "source": [
    "#### b) Wygenerowanie danych"
   ]
  },
  {
   "cell_type": "code",
   "execution_count": 10,
   "id": "16b258c7-fd05-44a3-bd48-66a5f15b6c28",
   "metadata": {
    "deletable": false,
    "nbgrader": {
     "cell_type": "code",
     "checksum": "f28c0a5782f863843130eb6a1065bbfd",
     "grade": true,
     "grade_id": "cell-d37cf452abff0515",
     "locked": false,
     "points": 3,
     "schema_version": 3,
     "solution": true,
     "task": false
    },
    "tags": []
   },
   "outputs": [
    {
     "ename": "KeyboardInterrupt",
     "evalue": "",
     "output_type": "error",
     "traceback": [
      "\u001b[1;31m---------------------------------------------------------------------------\u001b[0m",
      "\u001b[1;31mKeyboardInterrupt\u001b[0m                         Traceback (most recent call last)",
      "Cell \u001b[1;32mIn [10], line 4\u001b[0m\n\u001b[0;32m      1\u001b[0m polygon, \u001b[38;5;241m*\u001b[39m_ \u001b[38;5;241m=\u001b[39m polska\u001b[38;5;241m.\u001b[39mgeometry\n\u001b[0;32m      3\u001b[0m f1 \u001b[38;5;241m=\u001b[39m f_function(points_1\u001b[38;5;241m.\u001b[39mgeometry, number_of_points1, polygon)\n\u001b[1;32m----> 4\u001b[0m f2 \u001b[38;5;241m=\u001b[39m \u001b[43mf_function\u001b[49m\u001b[43m(\u001b[49m\u001b[43mpoints_2\u001b[49m\u001b[38;5;241;43m.\u001b[39;49m\u001b[43mgeometry\u001b[49m\u001b[43m,\u001b[49m\u001b[43m \u001b[49m\u001b[43mnumber_of_points2\u001b[49m\u001b[43m,\u001b[49m\u001b[43m \u001b[49m\u001b[43mpolygon\u001b[49m\u001b[43m)\u001b[49m\n\u001b[0;32m      5\u001b[0m f3 \u001b[38;5;241m=\u001b[39m f_function(points_3\u001b[38;5;241m.\u001b[39mgeometry, number_of_points3, polygon)\n\u001b[0;32m      7\u001b[0m f1_poisson \u001b[38;5;241m=\u001b[39m f_function_poisson(f1[\u001b[38;5;124m\"\u001b[39m\u001b[38;5;124mD\u001b[39m\u001b[38;5;124m\"\u001b[39m], number_of_points1\u001b[38;5;241m/\u001b[39marea)\n",
      "Cell \u001b[1;32mIn [9], line 20\u001b[0m, in \u001b[0;36mf_function\u001b[1;34m(points, intervals, polygon)\u001b[0m\n\u001b[0;32m      2\u001b[0m \u001b[38;5;124;03m\"\"\"\u001b[39;00m\n\u001b[0;32m      3\u001b[0m \u001b[38;5;124;03mParameters\u001b[39;00m\n\u001b[0;32m      4\u001b[0m \u001b[38;5;124;03m-------\u001b[39;00m\n\u001b[1;32m   (...)\u001b[0m\n\u001b[0;32m     17\u001b[0m \u001b[38;5;124;03m    - \"F\" - zawierającą wyliczone wartości funkcji F.\u001b[39;00m\n\u001b[0;32m     18\u001b[0m \u001b[38;5;124;03m\"\"\"\u001b[39;00m\n\u001b[0;32m     19\u001b[0m points \u001b[38;5;241m=\u001b[39m [[p\u001b[38;5;241m.\u001b[39mx, p\u001b[38;5;241m.\u001b[39my] \u001b[38;5;28;01mfor\u001b[39;00m p \u001b[38;5;129;01min\u001b[39;00m points]\n\u001b[1;32m---> 20\u001b[0m a \u001b[38;5;241m=\u001b[39m \u001b[43mpp\u001b[49m\u001b[38;5;241;43m.\u001b[39;49m\u001b[43mdistance_statistics\u001b[49m\u001b[38;5;241;43m.\u001b[39;49m\u001b[43mf\u001b[49m\u001b[43m(\u001b[49m\u001b[43mpoints\u001b[49m\u001b[43m,\u001b[49m\u001b[43m \u001b[49m\u001b[43mintervals\u001b[49m\u001b[43m,\u001b[49m\u001b[43m \u001b[49m\u001b[43mhull\u001b[49m\u001b[38;5;241;43m=\u001b[39;49m\u001b[43mpolygon\u001b[49m\u001b[43m)\u001b[49m\n\u001b[0;32m     21\u001b[0m \u001b[38;5;28;01mreturn\u001b[39;00m pd\u001b[38;5;241m.\u001b[39mDataFrame({\u001b[38;5;124m\"\u001b[39m\u001b[38;5;124mD\u001b[39m\u001b[38;5;124m\"\u001b[39m: a[\u001b[38;5;241m0\u001b[39m], \u001b[38;5;124m\"\u001b[39m\u001b[38;5;124mF\u001b[39m\u001b[38;5;124m\"\u001b[39m: a[\u001b[38;5;241m1\u001b[39m]})\n",
      "File \u001b[1;32m~\\AppData\\Local\\Programs\\Python\\Python39\\lib\\site-packages\\pointpats\\distance_statistics.py:186\u001b[0m, in \u001b[0;36mf\u001b[1;34m(coordinates, support, distances, metric, hull, edge_correction)\u001b[0m\n\u001b[0;32m    181\u001b[0m \u001b[38;5;28;01melse\u001b[39;00m:\n\u001b[0;32m    182\u001b[0m     \u001b[38;5;66;03m# Do 1000 empties. Users can control this by computing their own\u001b[39;00m\n\u001b[0;32m    183\u001b[0m     \u001b[38;5;66;03m# empty space distribution.\u001b[39;00m\n\u001b[0;32m    184\u001b[0m     n_empty_points \u001b[38;5;241m=\u001b[39m \u001b[38;5;241m1000\u001b[39m\n\u001b[1;32m--> 186\u001b[0m     randoms \u001b[38;5;241m=\u001b[39m \u001b[43mpoisson\u001b[49m\u001b[43m(\u001b[49m\u001b[43mhull\u001b[49m\u001b[38;5;241;43m=\u001b[39;49m\u001b[43mhull\u001b[49m\u001b[43m,\u001b[49m\u001b[43m \u001b[49m\u001b[43msize\u001b[49m\u001b[38;5;241;43m=\u001b[39;49m\u001b[43m(\u001b[49m\u001b[43mn_empty_points\u001b[49m\u001b[43m,\u001b[49m\u001b[43m \u001b[49m\u001b[38;5;241;43m1\u001b[39;49m\u001b[43m)\u001b[49m\u001b[43m)\u001b[49m\n\u001b[0;32m    187\u001b[0m     \u001b[38;5;28;01mtry\u001b[39;00m:\n\u001b[0;32m    188\u001b[0m         tree\n",
      "File \u001b[1;32m~\\AppData\\Local\\Programs\\Python\\Python39\\lib\\site-packages\\pointpats\\random.py:155\u001b[0m, in \u001b[0;36mpoisson\u001b[1;34m(hull, intensity, size)\u001b[0m\n\u001b[0;32m    150\u001b[0m \u001b[38;5;28;01mwhile\u001b[39;00m i_observation \u001b[38;5;241m<\u001b[39m n_observations:\n\u001b[0;32m    151\u001b[0m     x, y \u001b[38;5;241m=\u001b[39m (\n\u001b[0;32m    152\u001b[0m         numpy\u001b[38;5;241m.\u001b[39mrandom\u001b[38;5;241m.\u001b[39muniform(bbox[\u001b[38;5;241m0\u001b[39m], bbox[\u001b[38;5;241m2\u001b[39m]),\n\u001b[0;32m    153\u001b[0m         numpy\u001b[38;5;241m.\u001b[39mrandom\u001b[38;5;241m.\u001b[39muniform(bbox[\u001b[38;5;241m1\u001b[39m], bbox[\u001b[38;5;241m3\u001b[39m]),\n\u001b[0;32m    154\u001b[0m     )\n\u001b[1;32m--> 155\u001b[0m     \u001b[38;5;28;01mif\u001b[39;00m \u001b[43m_contains\u001b[49m\u001b[43m(\u001b[49m\u001b[43mhull\u001b[49m\u001b[43m,\u001b[49m\u001b[43m \u001b[49m\u001b[43mx\u001b[49m\u001b[43m,\u001b[49m\u001b[43m \u001b[49m\u001b[43my\u001b[49m\u001b[43m)\u001b[49m:\n\u001b[0;32m    156\u001b[0m         result[i_replication, i_observation] \u001b[38;5;241m=\u001b[39m (x, y)\n\u001b[0;32m    157\u001b[0m         i_observation \u001b[38;5;241m+\u001b[39m\u001b[38;5;241m=\u001b[39m \u001b[38;5;241m1\u001b[39m\n",
      "File \u001b[1;32m~\\AppData\\Local\\Programs\\Python\\Python39\\lib\\functools.py:877\u001b[0m, in \u001b[0;36msingledispatch.<locals>.wrapper\u001b[1;34m(*args, **kw)\u001b[0m\n\u001b[0;32m    873\u001b[0m \u001b[38;5;28;01mif\u001b[39;00m \u001b[38;5;129;01mnot\u001b[39;00m args:\n\u001b[0;32m    874\u001b[0m     \u001b[38;5;28;01mraise\u001b[39;00m \u001b[38;5;167;01mTypeError\u001b[39;00m(\u001b[38;5;124mf\u001b[39m\u001b[38;5;124m'\u001b[39m\u001b[38;5;132;01m{\u001b[39;00mfuncname\u001b[38;5;132;01m}\u001b[39;00m\u001b[38;5;124m requires at least \u001b[39m\u001b[38;5;124m'\u001b[39m\n\u001b[0;32m    875\u001b[0m                     \u001b[38;5;124m'\u001b[39m\u001b[38;5;124m1 positional argument\u001b[39m\u001b[38;5;124m'\u001b[39m)\n\u001b[1;32m--> 877\u001b[0m \u001b[38;5;28;01mreturn\u001b[39;00m dispatch(args[\u001b[38;5;241m0\u001b[39m]\u001b[38;5;241m.\u001b[39m\u001b[38;5;18m__class__\u001b[39m)(\u001b[38;5;241m*\u001b[39margs, \u001b[38;5;241m*\u001b[39m\u001b[38;5;241m*\u001b[39mkw)\n",
      "File \u001b[1;32m~\\AppData\\Local\\Programs\\Python\\Python39\\lib\\site-packages\\pointpats\\geometry.py:198\u001b[0m, in \u001b[0;36m_\u001b[1;34m(shape, x, y)\u001b[0m\n\u001b[0;32m    192\u001b[0m \u001b[38;5;129m@contains\u001b[39m\u001b[38;5;241m.\u001b[39mregister\n\u001b[0;32m    193\u001b[0m \u001b[38;5;28;01mdef\u001b[39;00m \u001b[38;5;21m_\u001b[39m(shape: _BaseGeometry, x: \u001b[38;5;28mfloat\u001b[39m, y: \u001b[38;5;28mfloat\u001b[39m):\n\u001b[0;32m    194\u001b[0m     \u001b[38;5;124;03m\"\"\"\u001b[39;00m\n\u001b[0;32m    195\u001b[0m \u001b[38;5;124;03m    If we know we're working with a shapely polygon, \u001b[39;00m\n\u001b[0;32m    196\u001b[0m \u001b[38;5;124;03m    then use the contains method & cast input coords to a shapely point\u001b[39;00m\n\u001b[0;32m    197\u001b[0m \u001b[38;5;124;03m    \"\"\"\u001b[39;00m\n\u001b[1;32m--> 198\u001b[0m     \u001b[38;5;28;01mreturn\u001b[39;00m \u001b[43mshape\u001b[49m\u001b[38;5;241;43m.\u001b[39;49m\u001b[43mcontains\u001b[49m\u001b[43m(\u001b[49m\u001b[43m_ShapelyPoint\u001b[49m\u001b[43m(\u001b[49m\u001b[43m(\u001b[49m\u001b[43mx\u001b[49m\u001b[43m,\u001b[49m\u001b[43m \u001b[49m\u001b[43my\u001b[49m\u001b[43m)\u001b[49m\u001b[43m)\u001b[49m\u001b[43m)\u001b[49m\n",
      "File \u001b[1;32m~\\AppData\\Local\\Programs\\Python\\Python39\\lib\\site-packages\\shapely\\geometry\\base.py:658\u001b[0m, in \u001b[0;36mBaseGeometry.contains\u001b[1;34m(self, other)\u001b[0m\n\u001b[0;32m    656\u001b[0m \u001b[38;5;28;01mdef\u001b[39;00m \u001b[38;5;21mcontains\u001b[39m(\u001b[38;5;28mself\u001b[39m, other):\n\u001b[0;32m    657\u001b[0m     \u001b[38;5;124;03m\"\"\"Returns True if the geometry contains the other, else False\"\"\"\u001b[39;00m\n\u001b[1;32m--> 658\u001b[0m     \u001b[38;5;28;01mreturn\u001b[39;00m _maybe_unpack(\u001b[43mshapely\u001b[49m\u001b[38;5;241;43m.\u001b[39;49m\u001b[43mcontains\u001b[49m\u001b[43m(\u001b[49m\u001b[38;5;28;43mself\u001b[39;49m\u001b[43m,\u001b[49m\u001b[43m \u001b[49m\u001b[43mother\u001b[49m\u001b[43m)\u001b[49m)\n",
      "File \u001b[1;32m~\\AppData\\Local\\Programs\\Python\\Python39\\lib\\site-packages\\shapely\\decorators.py:77\u001b[0m, in \u001b[0;36mmultithreading_enabled.<locals>.wrapped\u001b[1;34m(*args, **kwargs)\u001b[0m\n\u001b[0;32m     75\u001b[0m     \u001b[38;5;28;01mfor\u001b[39;00m arr \u001b[38;5;129;01min\u001b[39;00m array_args:\n\u001b[0;32m     76\u001b[0m         arr\u001b[38;5;241m.\u001b[39mflags\u001b[38;5;241m.\u001b[39mwriteable \u001b[38;5;241m=\u001b[39m \u001b[38;5;28;01mFalse\u001b[39;00m\n\u001b[1;32m---> 77\u001b[0m     \u001b[38;5;28;01mreturn\u001b[39;00m func(\u001b[38;5;241m*\u001b[39margs, \u001b[38;5;241m*\u001b[39m\u001b[38;5;241m*\u001b[39mkwargs)\n\u001b[0;32m     78\u001b[0m \u001b[38;5;28;01mfinally\u001b[39;00m:\n\u001b[0;32m     79\u001b[0m     \u001b[38;5;28;01mfor\u001b[39;00m arr, old_flag \u001b[38;5;129;01min\u001b[39;00m \u001b[38;5;28mzip\u001b[39m(array_args, old_flags):\n",
      "File \u001b[1;32m~\\AppData\\Local\\Programs\\Python\\Python39\\lib\\site-packages\\shapely\\predicates.py:540\u001b[0m, in \u001b[0;36mcontains\u001b[1;34m(a, b, **kwargs)\u001b[0m\n\u001b[0;32m    485\u001b[0m \u001b[38;5;129m@multithreading_enabled\u001b[39m\n\u001b[0;32m    486\u001b[0m \u001b[38;5;28;01mdef\u001b[39;00m \u001b[38;5;21mcontains\u001b[39m(a, b, \u001b[38;5;241m*\u001b[39m\u001b[38;5;241m*\u001b[39mkwargs):\n\u001b[0;32m    487\u001b[0m     \u001b[38;5;124;03m\"\"\"Returns True if geometry B is completely inside geometry A.\u001b[39;00m\n\u001b[0;32m    488\u001b[0m \n\u001b[0;32m    489\u001b[0m \u001b[38;5;124;03m    A contains B if no points of B lie in the exterior of A and at least one\u001b[39;00m\n\u001b[1;32m   (...)\u001b[0m\n\u001b[0;32m    538\u001b[0m \u001b[38;5;124;03m    False\u001b[39;00m\n\u001b[0;32m    539\u001b[0m \u001b[38;5;124;03m    \"\"\"\u001b[39;00m\n\u001b[1;32m--> 540\u001b[0m     \u001b[38;5;28;01mreturn\u001b[39;00m lib\u001b[38;5;241m.\u001b[39mcontains(a, b, \u001b[38;5;241m*\u001b[39m\u001b[38;5;241m*\u001b[39mkwargs)\n",
      "\u001b[1;31mKeyboardInterrupt\u001b[0m: "
     ]
    }
   ],
   "source": [
    "polygon, *_ = polska.geometry\n",
    "\n",
    "f1 = f_function(points_1.geometry, number_of_points1, polygon)\n",
    "f2 = f_function(points_2.geometry, number_of_points2, polygon)\n",
    "f3 = f_function(points_3.geometry, number_of_points3, polygon)\n",
    "\n",
    "f1_poisson = f_function_poisson(f1[\"D\"], number_of_points1/area)\n",
    "f2_poisson = f_function_poisson(f2[\"D\"], number_of_points2/area)\n",
    "f3_poisson = f_function_poisson(f3[\"D\"], number_of_points3/area)"
   ]
  },
  {
   "cell_type": "markdown",
   "id": "a1a40477-2b92-41c8-aaf0-1494a8a73de7",
   "metadata": {
    "deletable": false,
    "editable": false,
    "nbgrader": {
     "cell_type": "markdown",
     "checksum": "4eb4d63d564717573e93b7ab1efbcb54",
     "grade": false,
     "grade_id": "cell-4b9d8d1d54bc3a22",
     "locked": true,
     "schema_version": 3,
     "solution": false,
     "task": false
    },
    "tags": []
   },
   "source": [
    "#### c) Wizualizacja"
   ]
  },
  {
   "cell_type": "code",
   "execution_count": null,
   "id": "6cb4ae61-53a4-492a-a489-b0ef116d954b",
   "metadata": {
    "deletable": false,
    "nbgrader": {
     "cell_type": "code",
     "checksum": "d7b5e34df0788d8dd465ba4757db5932",
     "grade": true,
     "grade_id": "cell-91c84edabfd21688",
     "locked": false,
     "points": 6,
     "schema_version": 3,
     "solution": true,
     "task": false
    },
    "tags": []
   },
   "outputs": [],
   "source": [
    "fig, axes = plt.subplots(nrows=2, ncols=3, figsize=[15,10])\n",
    "plt.subplots_adjust(hspace=0.3, wspace=0.3)\n",
    "\n",
    "points_1.plot(ax=axes[0,0])\n",
    "axes[0,0].set_title(\"Points 1\")\n",
    "points_2.plot(ax=axes[0,1])\n",
    "axes[0,1].set_title(\"Points 2\")\n",
    "points_3.plot(ax=axes[0,2])\n",
    "axes[0,2].set_title(\"Points 3\")\n",
    "\n",
    "plot(f1_poisson, f1, axes[1,0], \n",
    "     \"Points 1 - F function\", \n",
    "     \"D\", \"F\")\n",
    "plot(f2_poisson, f2, axes[1,1], \n",
    "     \"Points 2 - F function\", \n",
    "     \"D\", \"F\")\n",
    "plot(f3_poisson, f3, axes[1,2], \n",
    "     \"Points 3 - F function\", \n",
    "     \"D\", \"F\")\n",
    "\n",
    "plt.show()"
   ]
  },
  {
   "cell_type": "markdown",
   "id": "7ed04902-c277-4865-ab2c-c62207a30f6b",
   "metadata": {
    "deletable": false,
    "editable": false,
    "nbgrader": {
     "cell_type": "markdown",
     "checksum": "522759b627f91e7032ed08823f0eef5c",
     "grade": false,
     "grade_id": "cell-f97f53b73dba357b",
     "locked": true,
     "schema_version": 3,
     "solution": false,
     "task": false
    },
    "tags": []
   },
   "source": [
    "### Zadanie 3: Analiza Monte-Carlo na przykładzie funkcji G (20 pkt)\n",
    "\n",
    "Korzystając z funkcji `pointpats.distance_statistics.g_test()` przygotuj funkcję `g_test_mc()`, która będzie przeprowadzała analizę Monte-Carlo testowanego rozkładu funkcji oraz przygotowywała dane niezbędne do wizualizacji wyników testu.\n",
    "\n",
    "Funkcja `pointpats.distance_statistics.g_test()` może zostać wykorzystana do wielokrotnego zasymulowania jednorodnego procesu poissona o intensywności równej intensywności testowanego procesu i wyliczeniu funkcji G dla każdego z zasymulowanych rozkładów. Funkcje te mogą posłużyć do wykreślenia obwiedni. Jeżeli funkcja G analizowanego rozkładu w całości znajduje się w obwiedni to nie pa podstaw do odrzucenia HO na rzecz H1. W przeciwnym przypadku następuje odrzucenie H0 na rzecz H1. Poziom istotności wykonywanego testu $\\alpha= \\frac{2}{n-1}$, gdzie $n$ to liczba wykonywanych symulacji.\n",
    "\n",
    "Następnie wykorzystaj przygotowane funkcje do przetestowania rozkładów punktów z plików points_1.zip, points_2.zip i points_3.zip na poziomie istotności $\\alpha=0.05$. \n",
    "\n",
    "Przedstaw wyniki analizy graficznie w postaci wykresów liniowych funkcji G przygotowanych rozkładów punktów z wygenerowaną obwiednią wykorzystywaną w teście statystycznym. Zestaw wyniki na pojedynczej figurze (siatka wykresów 2x3). Umieść analizowane rozkłady punktów w górnym wierszu, a wykresy funkcji G w dolnym wierszu figury. <br/>\n",
    "\n",
    "Przykładowe wyniki pracy funkcji `g_test_mc()`: <br/>\n",
    "<br/>\n",
    "`H0: Testowana zmienna ma jednorodny rozkład losowy Poissona` <br/>\n",
    "`H1: Testowana zmienna nie ma jednorodnego rozkład losowy Poissona` <br/>\n",
    "`Odrzucenie H0 na rzecz H1 na poziomie istotności alpha = 0.02` <br/>\n",
    "<br/>\n",
    "`H0: Testowana zmienna ma jednorodny rozkład losowy Poissona` <br/>\n",
    "`H1: Testowana zmienna nie ma jednorodnego rozkład losowy Poissona` <br/>\n",
    "`Wynik testu istotności nie daje podstaw do odrzucenia H0 na rzecz H1 na poziomie istotności alpha = 0.02` <br/>"
   ]
  },
  {
   "cell_type": "markdown",
   "id": "deb17507-9c7d-4016-abb9-5beaebb4fca6",
   "metadata": {
    "deletable": false,
    "editable": false,
    "nbgrader": {
     "cell_type": "markdown",
     "checksum": "a16f2ba4a4548934aa1656485c85fea9",
     "grade": false,
     "grade_id": "cell-813bd1ab8035432d",
     "locked": true,
     "schema_version": 3,
     "solution": false,
     "task": false
    },
    "tags": []
   },
   "source": [
    "#### a) Przygotowanie funkcji"
   ]
  },
  {
   "cell_type": "code",
   "execution_count": null,
   "id": "dfacb8ab-7688-4af9-91b4-afa62d0355ad",
   "metadata": {
    "deletable": false,
    "nbgrader": {
     "cell_type": "code",
     "checksum": "6c255645765d9e5edb27ff0ad3e1f5ee",
     "grade": true,
     "grade_id": "cell-2546f8cdd036ac88",
     "locked": false,
     "points": 12,
     "schema_version": 3,
     "solution": true,
     "task": false
    },
    "tags": []
   },
   "outputs": [],
   "source": [
    "def g_test_mc(points, intervals, polygon, number_of_simulations):\n",
    "    \"\"\"\n",
    "    Parameters\n",
    "    -------\n",
    "    points: GeoSeries\n",
    "        Tablica zawierająca punkty zapisane jako obiekty shapely.geometry.point.Point.\n",
    "    intervals: int\n",
    "        Liczba dodatnia określająca na ile części ma zostać podzielony dystans do największej odległosci do najbliższego sąsiada.\n",
    "    polygon: Polygon\n",
    "        Obszar, na którym mają zostać wygenerowane punkty procesu testowego.\n",
    "    number_of_simulations: int\n",
    "        Liczba dodania określająca liczbę wykonywanych symulacji.\n",
    "    \n",
    "    Returns\n",
    "    -------\n",
    "    g: DataFrame\n",
    "        Tablica zawierająca dwie kolumny:\n",
    "        - \"D\" - zawierającą unikalne wartości odległości do najbliższego sąsiada uszeregowane od najmniejszej do największej wartości, dla których wyliczone zostały wartości funkcji G,\n",
    "        - \"G\" - zawierającą wyliczone wartości funkcji G.\n",
    "        - \"G_min\" - zawierającą dolne wartości obwiedni funkcji G.\n",
    "        - \"G_max\" - zawierającą górne wartości obwiedni funkcji G.\n",
    "    \"\"\"  \n",
    "    points = np.array([[p.x, p.y] for p in points])\n",
    "    a = pp.distance_statistics.g_test(\n",
    "        points,\n",
    "        intervals,\n",
    "        hull=polygon,\n",
    "        n_simulations=n,\n",
    "        keep_simulations=True)\n",
    "    G_min = a[3].min(axis=0)\n",
    "    G_max = a[3].max(axis=0)\n",
    "    print(\"H0: Testowana zmienna ma jednorodny rozkład losowy Poissona\")\n",
    "    print(\"H1: Testowana zmienna nie ma jednorodnego rozkład losowy Poissona\")\n",
    "    if (G_min <= a[1]).all() and (G_max >= a[1]).all():\n",
    "        print(f\"Wynik testu istotności nie daje podstaw do odrzucenia H0 na rzecz H1 na poziomie istotności alpha = {2/(number_of_simulations-1)}\\n\")\n",
    "    else:\n",
    "        print(f\"Odrzucenie H0 na rzecz H1 na poziomie istotności alpha = {2/(number_of_simulations-1)}\\n\")\n",
    "    return pd.DataFrame({\"D\": a[0], \"G\": a[1], \"G_min\": G_min, \"G_max\": G_max})"
   ]
  },
  {
   "cell_type": "markdown",
   "id": "ffea4d63-efbf-4db5-adb5-2032724df163",
   "metadata": {
    "deletable": false,
    "editable": false,
    "nbgrader": {
     "cell_type": "markdown",
     "checksum": "bd5134bca87f7397d3ec0b108bf4d001",
     "grade": false,
     "grade_id": "cell-5edd92ba05b1daf0",
     "locked": true,
     "schema_version": 3,
     "solution": false,
     "task": false
    },
    "tags": []
   },
   "source": [
    "#### b) Wygenerowanie danych"
   ]
  },
  {
   "cell_type": "code",
   "execution_count": null,
   "id": "321f9538-2586-423c-9896-825c5c271cb9",
   "metadata": {
    "deletable": false,
    "nbgrader": {
     "cell_type": "code",
     "checksum": "2c1b64595c250614ec592e4e094e72b9",
     "grade": true,
     "grade_id": "cell-aaf56027e9dcf701",
     "locked": false,
     "points": 2,
     "schema_version": 3,
     "solution": true,
     "task": false
    },
    "tags": []
   },
   "outputs": [],
   "source": [
    "alpha = 0.05\n",
    "n = int(2/alpha+1)\n",
    "test1 = g_test_mc(points_1.geometry, number_of_points1, polygon, n)\n",
    "test2 = g_test_mc(points_2.geometry, number_of_points2, polygon, n)\n",
    "test3 = g_test_mc(points_3.geometry, number_of_points3, polygon, n)"
   ]
  },
  {
   "cell_type": "markdown",
   "id": "a43a2601-b161-433b-8263-8ae7bdbd46f0",
   "metadata": {
    "deletable": false,
    "editable": false,
    "nbgrader": {
     "cell_type": "markdown",
     "checksum": "52fa3126439683910d0d19557d5e50d9",
     "grade": false,
     "grade_id": "cell-c833a8838b829a62",
     "locked": true,
     "schema_version": 3,
     "solution": false,
     "task": false
    },
    "tags": []
   },
   "source": [
    "#### c) Wizualizacja"
   ]
  },
  {
   "cell_type": "code",
   "execution_count": null,
   "id": "41c3d5a2-0f0c-49c8-be0e-085837fe6f8a",
   "metadata": {
    "deletable": false,
    "nbgrader": {
     "cell_type": "code",
     "checksum": "11a8d07d7d72b94ddecd6c1d9e7f0eb4",
     "grade": true,
     "grade_id": "cell-7c77777a4ace8147",
     "locked": false,
     "points": 6,
     "schema_version": 3,
     "solution": true,
     "task": false
    },
    "tags": []
   },
   "outputs": [],
   "source": [
    "fig, axes = plt.subplots(nrows=2, ncols=3, figsize=[15,10])\n",
    "plt.subplots_adjust(hspace=0.3, wspace=0.3)\n",
    "\n",
    "points_1.plot(ax=axes[0,0])\n",
    "axes[0,0].set_title(\"Points 1\")\n",
    "points_2.plot(ax=axes[0,1])\n",
    "axes[0,1].set_title(\"Points 2\")\n",
    "points_3.plot(ax=axes[0,2])\n",
    "axes[0,2].set_title(\"Points 3\")\n",
    "\n",
    "\n",
    "\n",
    "axes[1,0].plot(test1[\"D\"], test1[\"G\"], c=\"blue\", label=\"observed\")\n",
    "axes[1,0].plot(test1[\"D\"], test1[\"G_min\"], c=\"orange\", label=\"low\")\n",
    "axes[1,0].plot(test1[\"D\"], test1[\"G_max\"], c=\"orange\", label=\"high\")\n",
    "axes[1,0].set_xlabel(\"D\", rotation=0, labelpad=20)\n",
    "axes[1,0].set_ylabel(\"G\", rotation=0, labelpad=20)\n",
    "axes[1,0].set_title(\"Result of Mont Carlo test for Points 1\")\n",
    "axes[1,0].legend(labelcolor=\"linecolor\", loc=\"lower right\", prop={'size': 9})\n",
    "\n",
    "axes[1,1].plot(test2[\"D\"], test2[\"G\"], c=\"blue\", label=\"observed\")\n",
    "axes[1,1].plot(test2[\"D\"], test2[\"G_min\"], c=\"orange\", label=\"low\")\n",
    "axes[1,1].plot(test2[\"D\"], test2[\"G_max\"], c=\"orange\", label=\"high\")\n",
    "axes[1,1].set_xlabel(\"D\", rotation=0, labelpad=20)\n",
    "axes[1,1].set_ylabel(\"G\", rotation=0, labelpad=20)\n",
    "axes[1,1].set_title(\"Result of Mont Carlo test for Points 2\")\n",
    "axes[1,1].legend(labelcolor=\"linecolor\", loc=\"lower right\", prop={'size': 9})\n",
    "\n",
    "axes[1,2].plot(test3[\"D\"], test3[\"G\"], c=\"blue\", label=\"observed\")\n",
    "axes[1,2].plot(test3[\"D\"], test3[\"G_min\"], c=\"orange\", label=\"low\")\n",
    "axes[1,2].plot(test3[\"D\"], test3[\"G_max\"], c=\"orange\", label=\"high\")\n",
    "axes[1,2].set_xlabel(\"D\", rotation=0, labelpad=20)\n",
    "axes[1,2].set_ylabel(\"G\", rotation=0, labelpad=20)\n",
    "axes[1,2].set_title(\"Result of Mont Carlo test for Points 3\")\n",
    "axes[1,2].legend(labelcolor=\"linecolor\", loc=\"lower right\", prop={'size': 9})\n",
    "\n",
    "\n",
    "plt.show()"
   ]
  },
  {
   "cell_type": "code",
   "execution_count": null,
   "id": "36d30acb-1631-4c49-9b10-0d16252feb18",
   "metadata": {},
   "outputs": [],
   "source": []
  }
 ],
 "metadata": {
  "kernelspec": {
   "display_name": "Python 3 (ipykernel)",
   "language": "python",
   "name": "python3"
  },
  "language_info": {
   "codemirror_mode": {
    "name": "ipython",
    "version": 3
   },
   "file_extension": ".py",
   "mimetype": "text/x-python",
   "name": "python",
   "nbconvert_exporter": "python",
   "pygments_lexer": "ipython3",
   "version": "3.9.7"
  },
  "nteract": {
   "version": "nteract-front-end@1.0.0"
  }
 },
 "nbformat": 4,
 "nbformat_minor": 5
}
